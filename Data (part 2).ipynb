{
 "cells": [
  {
   "cell_type": "markdown",
   "metadata": {},
   "source": [
    "# Part 2: Data\n",
    "\n",
    "Describe the data that you will be using to solve the problem or execute your idea. Remember that you will need to use the Foursquare location data to solve the problem or execute your idea. You can absolutely use other datasets in combination with the Foursquare location data. So make sure that you provide adequate explanation and discussion, with examples, of the data that you will be using, even if it is only Foursquare location data.\n",
    "\n",
    "***\n",
    "\n",
    "#### Step 1\n",
    "**_The per capita GDP data is found here: https://odn.data.socrata.com/dataset/ODN-GDP/mkpy-jf3j_**\n",
    "(comparing the standard of living in California, Massachussetts, and Pennsylvania).\n",
    "\n",
    "***\n",
    "\n",
    "#### Step 2\n",
    "**_The cost of living in each city is found here: https://www.numbeo.com/cost-of-living/._**\n",
    "I then created my own excel table with the information I gathered for Boston, San Francisco, and Pittsburgh.\n",
    "\n",
    "***\n",
    "\n",
    "#### Step 3\n",
    "**_Foursquare API is found here: https://developer.foursquare.com/._**\n",
    "I used this to find the unique venues in several areas of Pittsburgh, PA.\n",
    "\n",
    "***"
   ]
  },
  {
   "cell_type": "code",
   "execution_count": null,
   "metadata": {},
   "outputs": [],
   "source": []
  }
 ],
 "metadata": {
  "kernelspec": {
   "display_name": "Python 3",
   "language": "python",
   "name": "python3"
  },
  "language_info": {
   "codemirror_mode": {
    "name": "ipython",
    "version": 3
   },
   "file_extension": ".py",
   "mimetype": "text/x-python",
   "name": "python",
   "nbconvert_exporter": "python",
   "pygments_lexer": "ipython3",
   "version": "3.7.1"
  }
 },
 "nbformat": 4,
 "nbformat_minor": 2
}
