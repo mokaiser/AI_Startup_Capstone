{
 "cells": [
  {
   "cell_type": "markdown",
   "metadata": {},
   "source": [
    "# The Battle of Neighborhoods\n",
    "Now that you have been equipped with the skills and the tools to use location data to explore a geographical location, over the course of two weeks, you will have the opportunity to be as creative as you want and come up with an idea to leverage the Foursquare location data to explore or compare neighborhoods or cities of your choice or to come up with a problem that you can use the Foursquare location data to solve.\n",
    "\n",
    "***\n",
    "\n",
    "## Part 1: The Business Idea/Problem\n",
    "Clearly define a problem or an idea of your choice, where you would need to leverage the Foursquare location data to solve or execute. Remember that data science problems always target an audience and are meant to help a group of stakeholders solve a problem, so make sure that you explicitly describe your audience and why they would care about your problem.\n",
    "\n",
    "**_A client wants to move their AI (artificial intelligence) startup to a new state, but they are concerned about finding top notch employees and the cost of living. We will show why they should move to Pittsburgh, PA using this trifecta: member of the AI triangle, relatively low cost of living, and flourishing social life._**\n",
    "\n",
    "***\n",
    "\n",
    "# Solution\n",
    "#### Step 1\n",
    "\n",
    "**_We will first compare the per capita GDP for the 3 different states involved in the AI triangle (California, Massachussetts, and Pennsylvania). Per capita GDP shows the standard of living for an area. A higher per capita GDP usually means the area is more prosperous._**\n",
    "\n",
    "#### Step 2\n",
    "\n",
    "**_Now, we're going to get more targeted. It is important to keep in mind the average cost of living for all 3 cities involved. Cost of living affects numerous aspects of life, such as an employee's salary, average rent price, groceries, car insurance, etc. We will compare the average cost of living in each city using Numbeo. The link will be provided in the data section._**\n",
    "\n",
    "#### Step 3\n",
    "**_Lastly, we will locate an area (Downtown, East End, West End, North Side, South Side) in Pittsburgh that has the highest amount of unique venues. This is because networking is critical in business. For example, this can be used as a reference for renting out venues for speaking events and business meetings._**\n",
    "\n",
    "***\n",
    "\n",
    "Note #1: This was an independent project, however, I am using third person statements. I wanted this to read as a walkthrough, which is why I am using \"we\". \n",
    "\n",
    "Note #2: I am only referring to the AI triangle in the USA. I understand that numerous other countries are involved, but that is out of the scope for this project. On a related note, the specific US cities involved are Boston, San Francisco (aka Silicon Valley), and Pittsburgh.\n",
    "\n",
    "Note #3: \"per capita GDP\" and \"GDP per capita\" are interchangeable. In other words, I am referring to the same measure."
   ]
  },
  {
   "cell_type": "code",
   "execution_count": null,
   "metadata": {},
   "outputs": [],
   "source": []
  }
 ],
 "metadata": {
  "kernelspec": {
   "display_name": "Python 3",
   "language": "python",
   "name": "python3"
  },
  "language_info": {
   "codemirror_mode": {
    "name": "ipython",
    "version": 3
   },
   "file_extension": ".py",
   "mimetype": "text/x-python",
   "name": "python",
   "nbconvert_exporter": "python",
   "pygments_lexer": "ipython3",
   "version": "3.7.1"
  }
 },
 "nbformat": 4,
 "nbformat_minor": 2
}
